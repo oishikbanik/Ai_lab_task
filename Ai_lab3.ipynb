{
  "nbformat": 4,
  "nbformat_minor": 0,
  "metadata": {
    "colab": {
      "provenance": [],
      "authorship_tag": "ABX9TyM6e2bR3B0DipqQ7hO3J4IF",
      "include_colab_link": true
    },
    "kernelspec": {
      "name": "python3",
      "display_name": "Python 3"
    },
    "language_info": {
      "name": "python"
    }
  },
  "cells": [
    {
      "cell_type": "markdown",
      "metadata": {
        "id": "view-in-github",
        "colab_type": "text"
      },
      "source": [
        "<a href=\"https://colab.research.google.com/github/oishikbanik/Ai_lab_task/blob/main/Ai_lab3.ipynb\" target=\"_parent\"><img src=\"https://colab.research.google.com/assets/colab-badge.svg\" alt=\"Open In Colab\"/></a>"
      ]
    },
    {
      "cell_type": "code",
      "execution_count": 8,
      "metadata": {
        "id": "tANV0gJ8-1R_"
      },
      "outputs": [],
      "source": [
        "import pandas as pd\n",
        "import matplotlib.pyplot as plt\n",
        "df = pd.read_csv('/content/PriceDataSet.csv')"
      ]
    },
    {
      "cell_type": "code",
      "source": [
        "print(df.to_string())"
      ],
      "metadata": {
        "id": "b5M-MaOkGtHA"
      },
      "execution_count": null,
      "outputs": []
    },
    {
      "cell_type": "code",
      "source": [
        "df.head()"
      ],
      "metadata": {
        "id": "rdPigDGBHQ0n"
      },
      "execution_count": null,
      "outputs": []
    },
    {
      "cell_type": "code",
      "source": [
        "df.tail()"
      ],
      "metadata": {
        "id": "PkDPuF_vHlzF"
      },
      "execution_count": null,
      "outputs": []
    },
    {
      "cell_type": "code",
      "source": [
        "df.corr()"
      ],
      "metadata": {
        "id": "qrVHDvx1HwE-"
      },
      "execution_count": null,
      "outputs": []
    },
    {
      "cell_type": "code",
      "source": [
        "df.info()"
      ],
      "metadata": {
        "id": "she1gbGWH3h-"
      },
      "execution_count": null,
      "outputs": []
    },
    {
      "cell_type": "code",
      "source": [
        "df.plot(kind = 'scatter', x = 'price', y = 'weight')\n",
        "plt.xlabel('Weight of potato')\n",
        "plt.ylabel('Price of potato')\n",
        "plt.title(\"Prediction\")\n",
        "plt.show()"
      ],
      "metadata": {
        "id": "0n1Bo8eTITmw"
      },
      "execution_count": null,
      "outputs": []
    },
    {
      "cell_type": "code",
      "source": [
        "df[\"weight\"].plot(kind = 'hist')\n",
        "plt.show()"
      ],
      "metadata": {
        "id": "D2er1KG3KLDm"
      },
      "execution_count": null,
      "outputs": []
    },
    {
      "cell_type": "code",
      "source": [
        "df = pd.read_csv('/content/PriceDataSetnew.csv')"
      ],
      "metadata": {
        "id": "q8H-TOqoLMoi"
      },
      "execution_count": 12,
      "outputs": []
    },
    {
      "cell_type": "code",
      "source": [
        "new_df = df.dropna()\n",
        "print(df)\n",
        "print(new_df)"
      ],
      "metadata": {
        "id": "iHCrE_RvLbNi"
      },
      "execution_count": null,
      "outputs": []
    },
    {
      "cell_type": "code",
      "source": [
        "new_df = df.fillna(50)\n",
        "print(new_df)"
      ],
      "metadata": {
        "id": "FbdDgPQsNhyR"
      },
      "execution_count": null,
      "outputs": []
    },
    {
      "cell_type": "code",
      "source": [
        "x = df[\"weight\"].mean()\n",
        "print('Mean is ', x)\n",
        "new_df = df.fillna(x)\n",
        "print(new_df)"
      ],
      "metadata": {
        "id": "DFsGFkwSOEix"
      },
      "execution_count": null,
      "outputs": []
    },
    {
      "cell_type": "code",
      "source": [
        "x = df[\"weight\"].median()\n",
        "print('Median is ', x)\n",
        "new_df = df.fillna(x)\n",
        "print(new_df)"
      ],
      "metadata": {
        "id": "QdWU9X80OuPH"
      },
      "execution_count": null,
      "outputs": []
    },
    {
      "cell_type": "code",
      "source": [
        "x = df[\"weight\"].mode()[0]\n",
        "print('Mode is ', x)\n",
        "new_df = df.fillna(x)\n",
        "print(new_df)"
      ],
      "metadata": {
        "id": "2j54xRrdO2zG"
      },
      "execution_count": null,
      "outputs": []
    },
    {
      "cell_type": "code",
      "source": [
        "print(df.duplicated())"
      ],
      "metadata": {
        "id": "KcGdx951PIUG"
      },
      "execution_count": null,
      "outputs": []
    },
    {
      "cell_type": "code",
      "source": [
        "df = pd.read_csv('/content/v.csv')\n",
        "print(df.duplicated())\n",
        "df.drop_duplicates(inplace = True)\n",
        "print(df.duplicated())"
      ],
      "metadata": {
        "id": "bW8bnUBZPvNH"
      },
      "execution_count": null,
      "outputs": []
    },
    {
      "cell_type": "code",
      "source": [
        "df.describe()"
      ],
      "metadata": {
        "id": "dC-cBVSNQ911"
      },
      "execution_count": null,
      "outputs": []
    }
  ]
}