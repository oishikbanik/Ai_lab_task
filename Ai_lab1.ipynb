{
  "nbformat": 4,
  "nbformat_minor": 0,
  "metadata": {
    "colab": {
      "provenance": [],
      "authorship_tag": "ABX9TyNtu2vNTBOTYvOVYeiNk0fj",
      "include_colab_link": true
    },
    "kernelspec": {
      "name": "python3",
      "display_name": "Python 3"
    },
    "language_info": {
      "name": "python"
    }
  },
  "cells": [
    {
      "cell_type": "markdown",
      "metadata": {
        "id": "view-in-github",
        "colab_type": "text"
      },
      "source": [
        "<a href=\"https://colab.research.google.com/github/oishikbanik/Ai_lab_task/blob/main/Ai_lab1.ipynb\" target=\"_parent\"><img src=\"https://colab.research.google.com/assets/colab-badge.svg\" alt=\"Open In Colab\"/></a>"
      ]
    },
    {
      "cell_type": "code",
      "execution_count": 1,
      "metadata": {
        "colab": {
          "base_uri": "https://localhost:8080/"
        },
        "id": "oDb9VXkBXrRX",
        "outputId": "ea8541a6-ebea-487a-d883-282938fa91f4"
      },
      "outputs": [
        {
          "output_type": "stream",
          "name": "stdout",
          "text": [
            "['toyota', 'honda', 'bmw', 'ford', 'audi', 'nissan', 'mercedes']\n",
            "7\n",
            "<class 'list'>\n",
            "honda\n",
            "mercedes\n",
            "['bmw', 'ford', 'audi']\n",
            "['toyota', 'honda', 'bmw', 'ford']\n",
            "['bmw', 'ford', 'audi', 'nissan', 'mercedes']\n"
          ]
        }
      ],
      "source": [
        "car_brands = [\"toyota\", \"honda\", \"bmw\", \"ford\", \"audi\", \"nissan\", \"mercedes\"]\n",
        "\n",
        "print(car_brands)\n",
        "print(len(car_brands))\n",
        "print(type(car_brands))\n",
        "print(car_brands[1])\n",
        "print(car_brands[-1])\n",
        "print(car_brands[2:5])\n",
        "print(car_brands[:4])\n",
        "print(car_brands[2:])"
      ]
    },
    {
      "cell_type": "code",
      "source": [
        "subjects = [\"phy\", \"che\", \"math\"]\n",
        "subjects[1] = \"ict\"\n",
        "print(subjects)\n",
        "\n",
        "subjects.insert(2, \"eng\")\n",
        "print(subjects)\n",
        "\n",
        "subjects.append(\"ban\")\n",
        "print(subjects)\n",
        "\n",
        "subjects.remove(\"phy\")\n",
        "print(subjects)\n",
        "\n",
        "subjects.sort()\n",
        "print(subjects)\n",
        "\n",
        "my_subjects = subjects.copy()\n",
        "print(my_subjects)\n",
        "\n",
        "letters = [\"a\", \"b\", \"c\"]\n",
        "numbers = [1, 2, 3]\n",
        "\n",
        "combined_list = letters + numbers\n",
        "print(combined_list)"
      ],
      "metadata": {
        "colab": {
          "base_uri": "https://localhost:8080/"
        },
        "id": "zH-yaZdeZEhM",
        "outputId": "d3d03201-a469-4576-cc64-b1d115d72c15"
      },
      "execution_count": 2,
      "outputs": [
        {
          "output_type": "stream",
          "name": "stdout",
          "text": [
            "['phy', 'ict', 'math']\n",
            "['phy', 'ict', 'eng', 'math']\n",
            "['phy', 'ict', 'eng', 'math', 'ban']\n",
            "['ict', 'eng', 'math', 'ban']\n",
            "['ban', 'eng', 'ict', 'math']\n",
            "['ban', 'eng', 'ict', 'math']\n",
            "['a', 'b', 'c', 1, 2, 3]\n"
          ]
        }
      ]
    },
    {
      "cell_type": "code",
      "source": [
        "letters = (\"a\", \"b\", \"c\", \"d\", \"e\", \"f\", \"g\", \"h\")\n",
        "slice1 = slice(3, 5)\n",
        "print(letters[slice1])\n",
        "\n",
        "slice2 = slice(0, 8, 3)\n",
        "print(letters[slice2])"
      ],
      "metadata": {
        "colab": {
          "base_uri": "https://localhost:8080/"
        },
        "id": "eLgGIll-Z0ol",
        "outputId": "3385894c-422f-4c82-f669-5d10fb842f78"
      },
      "execution_count": 3,
      "outputs": [
        {
          "output_type": "stream",
          "name": "stdout",
          "text": [
            "('d', 'e')\n",
            "('a', 'd', 'g')\n"
          ]
        }
      ]
    },
    {
      "cell_type": "code",
      "source": [
        "f= open(\"demo.txt\")\n",
        "f = open(\"demo.txt\", \"r\")\n",
        "print(f.read())"
      ],
      "metadata": {
        "colab": {
          "base_uri": "https://localhost:8080/"
        },
        "id": "hRbuPHPPZ71A",
        "outputId": "bbe69c14-a609-4447-e494-a30b7d36c389"
      },
      "execution_count": 9,
      "outputs": [
        {
          "output_type": "stream",
          "name": "stdout",
          "text": [
            "this is text file\n"
          ]
        }
      ]
    },
    {
      "cell_type": "code",
      "source": [
        "f = open(\"demo.txt\", \"a\")\n",
        "f.write(\"write\")\n",
        "f.close()\n",
        "\n",
        "\n",
        "f = open(\"demo.txt\", \"r\")\n",
        "print(f.read())"
      ],
      "metadata": {
        "colab": {
          "base_uri": "https://localhost:8080/"
        },
        "id": "pf3MLqJKbWae",
        "outputId": "c4cc5ba6-a2d9-4abc-8b91-d209165ebcde"
      },
      "execution_count": 11,
      "outputs": [
        {
          "output_type": "stream",
          "name": "stdout",
          "text": [
            "this is text filewrite\n"
          ]
        }
      ]
    }
  ]
}